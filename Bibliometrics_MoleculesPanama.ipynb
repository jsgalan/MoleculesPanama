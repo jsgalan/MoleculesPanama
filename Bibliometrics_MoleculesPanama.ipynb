{
 "cells": [
  {
   "cell_type": "markdown",
   "metadata": {
    "id": "2ifsPpXA4qHy"
   },
   "source": [
    "**Installing the needed libraries**"
   ]
  },
  {
   "cell_type": "code",
   "execution_count": 1,
   "metadata": {
    "colab": {
     "base_uri": "https://localhost:8080/",
     "height": 207
    },
    "id": "h9jRPhdNyJ13",
    "outputId": "09b2b720-0b1d-48e7-fb47-45d881d2c6b4"
   },
   "outputs": [
    {
     "name": "stdout",
     "output_type": "stream",
     "text": [
      "Requirement already satisfied: pubmed-lookup in /opt/anaconda3/lib/python3.7/site-packages (0.2.3)\n",
      "Requirement already satisfied: biopython>=1.66 in /opt/anaconda3/lib/python3.7/site-packages (from pubmed-lookup) (1.78)\n",
      "Requirement already satisfied: xmltodict>=0.9.2 in /opt/anaconda3/lib/python3.7/site-packages (from pubmed-lookup) (0.12.0)\n",
      "Requirement already satisfied: numpy in /opt/anaconda3/lib/python3.7/site-packages (from biopython>=1.66->pubmed-lookup) (1.19.0)\n",
      "Note: you may need to restart the kernel to use updated packages.\n"
     ]
    }
   ],
   "source": [
    "pip install pubmed-lookup"
   ]
  },
  {
   "cell_type": "code",
   "execution_count": 2,
   "metadata": {
    "colab": {
     "base_uri": "https://localhost:8080/",
     "height": 190
    },
    "id": "y-f3x8ZFyPCh",
    "outputId": "90d6526a-da3b-4195-bcd3-4d001bc0fe7d"
   },
   "outputs": [
    {
     "name": "stdout",
     "output_type": "stream",
     "text": [
      "Requirement already satisfied: elsapy in /opt/anaconda3/lib/python3.7/site-packages (0.5.0)\n",
      "Requirement already satisfied: requests in /opt/anaconda3/lib/python3.7/site-packages (from elsapy) (2.22.0)\n",
      "Requirement already satisfied: certifi>=2017.4.17 in /opt/anaconda3/lib/python3.7/site-packages (from requests->elsapy) (2019.9.11)\n",
      "Requirement already satisfied: chardet<3.1.0,>=3.0.2 in /opt/anaconda3/lib/python3.7/site-packages (from requests->elsapy) (3.0.4)\n",
      "Requirement already satisfied: idna<2.9,>=2.5 in /opt/anaconda3/lib/python3.7/site-packages (from requests->elsapy) (2.8)\n",
      "Requirement already satisfied: urllib3!=1.25.0,!=1.25.1,<1.26,>=1.21.1 in /opt/anaconda3/lib/python3.7/site-packages (from requests->elsapy) (1.24.2)\n",
      "Note: you may need to restart the kernel to use updated packages.\n"
     ]
    }
   ],
   "source": [
    "pip install elsapy"
   ]
  },
  {
   "cell_type": "code",
   "execution_count": 3,
   "metadata": {
    "colab": {
     "base_uri": "https://localhost:8080/",
     "height": 241
    },
    "id": "2YlKV6iKyOo6",
    "outputId": "c5a0620d-5037-4ec2-f2b7-6f3fc09c12b7"
   },
   "outputs": [
    {
     "name": "stdout",
     "output_type": "stream",
     "text": [
      "Collecting git+http://github.com/mfcovington/pubmed-lookup.git@develop\n",
      "  Cloning http://github.com/mfcovington/pubmed-lookup.git (to revision develop) to /private/var/folders/4b/jg0k5m617x3bpy86jy6b49p40000gn/T/pip-req-build-baoal5ux\n",
      "  Running command git clone -q http://github.com/mfcovington/pubmed-lookup.git /private/var/folders/4b/jg0k5m617x3bpy86jy6b49p40000gn/T/pip-req-build-baoal5ux\n",
      "Requirement already satisfied (use --upgrade to upgrade): pubmed-lookup==0.2.3 from git+http://github.com/mfcovington/pubmed-lookup.git@develop in /opt/anaconda3/lib/python3.7/site-packages\n",
      "Requirement already satisfied: biopython>=1.66 in /opt/anaconda3/lib/python3.7/site-packages (from pubmed-lookup==0.2.3) (1.78)\n",
      "Requirement already satisfied: xmltodict>=0.9.2 in /opt/anaconda3/lib/python3.7/site-packages (from pubmed-lookup==0.2.3) (0.12.0)\n",
      "Requirement already satisfied: numpy in /opt/anaconda3/lib/python3.7/site-packages (from biopython>=1.66->pubmed-lookup==0.2.3) (1.19.0)\n",
      "Building wheels for collected packages: pubmed-lookup\n",
      "  Building wheel for pubmed-lookup (setup.py) ... \u001b[?25ldone\n",
      "\u001b[?25h  Created wheel for pubmed-lookup: filename=pubmed_lookup-0.2.3-cp37-none-any.whl size=10662 sha256=451e81445cb9454e58a066e1358e8b68490f79c7c5c191b08d8eb5b17a489e50\n",
      "  Stored in directory: /private/var/folders/4b/jg0k5m617x3bpy86jy6b49p40000gn/T/pip-ephem-wheel-cache-bntfifz4/wheels/6c/bb/4e/bad8766ea99b3e71827432463e4f7fda40e6cc206d521e1b20\n",
      "Successfully built pubmed-lookup\n",
      "Note: you may need to restart the kernel to use updated packages.\n"
     ]
    }
   ],
   "source": [
    "pip install git+http://github.com/mfcovington/pubmed-lookup.git@develop"
   ]
  },
  {
   "cell_type": "markdown",
   "metadata": {
    "id": "SLZOKWbQ41ae"
   },
   "source": [
    "**Generating the dataframe**"
   ]
  },
  {
   "cell_type": "code",
   "execution_count": 1,
   "metadata": {
    "id": "h70muEk4wwRj"
   },
   "outputs": [
    {
     "name": "stderr",
     "output_type": "stream",
     "text": [
      "\n",
      "Bad key \"text.kerning_factor\" on line 4 in\n",
      "/opt/anaconda3/lib/python3.7/site-packages/matplotlib/mpl-data/stylelib/_classic_test_patch.mplstyle.\n",
      "You probably need to get an updated matplotlibrc file from\n",
      "https://github.com/matplotlib/matplotlib/blob/v3.1.3/matplotlibrc.template\n",
      "or from the matplotlib source distribution\n"
     ]
    }
   ],
   "source": [
    "from Bio import Entrez\n",
    "from Bio import Medline\n",
    "import pandas as pd\n",
    "import re\n",
    "import seaborn as sns\n",
    "import matplotlib.pyplot as plt"
   ]
  },
  {
   "cell_type": "code",
   "execution_count": 2,
   "metadata": {
    "colab": {
     "base_uri": "https://localhost:8080/",
     "height": 443
    },
    "id": "y8xluioYwwSi",
    "outputId": "b37c255d-748f-467d-fe90-5d119201a4db",
    "scrolled": false
   },
   "outputs": [
    {
     "name": "stdout",
     "output_type": "stream",
     "text": [
      "coibanol\n",
      "bastimolide\n",
      "coibamide\n"
     ]
    },
    {
     "ename": "HTTPError",
     "evalue": "HTTP Error 429: Too Many Requests",
     "output_type": "error",
     "traceback": [
      "\u001b[0;31m---------------------------------------------------------------------------\u001b[0m",
      "\u001b[0;31mHTTPError\u001b[0m                                 Traceback (most recent call last)",
      "\u001b[0;32m<ipython-input-2-15377e26e0d1>\u001b[0m in \u001b[0;36m<module>\u001b[0;34m\u001b[0m\n\u001b[1;32m     15\u001b[0m \u001b[0;32mfor\u001b[0m \u001b[0mmolecule\u001b[0m \u001b[0;32min\u001b[0m \u001b[0mmy_molecules\u001b[0m\u001b[0;34m:\u001b[0m\u001b[0;34m\u001b[0m\u001b[0;34m\u001b[0m\u001b[0m\n\u001b[1;32m     16\u001b[0m     \u001b[0mprint\u001b[0m\u001b[0;34m(\u001b[0m\u001b[0mmolecule\u001b[0m\u001b[0;34m)\u001b[0m\u001b[0;34m\u001b[0m\u001b[0;34m\u001b[0m\u001b[0m\n\u001b[0;32m---> 17\u001b[0;31m     \u001b[0mhandle\u001b[0m \u001b[0;34m=\u001b[0m \u001b[0mEntrez\u001b[0m\u001b[0;34m.\u001b[0m\u001b[0mesearch\u001b[0m\u001b[0;34m(\u001b[0m\u001b[0mdb\u001b[0m\u001b[0;34m=\u001b[0m\u001b[0;34m\"PMC\"\u001b[0m\u001b[0;34m,\u001b[0m \u001b[0mterm\u001b[0m\u001b[0;34m=\u001b[0m\u001b[0mmolecule\u001b[0m\u001b[0;34m,\u001b[0m \u001b[0msort\u001b[0m\u001b[0;34m=\u001b[0m\u001b[0;34m\"relevance\"\u001b[0m\u001b[0;34m,\u001b[0m \u001b[0mretmode\u001b[0m\u001b[0;34m=\u001b[0m\u001b[0;34m\"xml\"\u001b[0m\u001b[0;34m)\u001b[0m\u001b[0;34m\u001b[0m\u001b[0;34m\u001b[0m\u001b[0m\n\u001b[0m\u001b[1;32m     18\u001b[0m     \u001b[0mrecord\u001b[0m \u001b[0;34m=\u001b[0m \u001b[0mEntrez\u001b[0m\u001b[0;34m.\u001b[0m\u001b[0mread\u001b[0m\u001b[0;34m(\u001b[0m\u001b[0mhandle\u001b[0m\u001b[0;34m)\u001b[0m\u001b[0;34m\u001b[0m\u001b[0;34m\u001b[0m\u001b[0m\n\u001b[1;32m     19\u001b[0m     \u001b[0midlist\u001b[0m \u001b[0;34m=\u001b[0m \u001b[0mrecord\u001b[0m\u001b[0;34m[\u001b[0m\u001b[0;34m\"IdList\"\u001b[0m\u001b[0;34m]\u001b[0m\u001b[0;34m\u001b[0m\u001b[0;34m\u001b[0m\u001b[0m\n",
      "\u001b[0;32m/opt/anaconda3/lib/python3.7/site-packages/Bio/Entrez/__init__.py\u001b[0m in \u001b[0;36mesearch\u001b[0;34m(db, term, **keywds)\u001b[0m\n\u001b[1;32m    240\u001b[0m     \u001b[0mvariables\u001b[0m \u001b[0;34m=\u001b[0m \u001b[0;34m{\u001b[0m\u001b[0;34m\"db\"\u001b[0m\u001b[0;34m:\u001b[0m \u001b[0mdb\u001b[0m\u001b[0;34m,\u001b[0m \u001b[0;34m\"term\"\u001b[0m\u001b[0;34m:\u001b[0m \u001b[0mterm\u001b[0m\u001b[0;34m}\u001b[0m\u001b[0;34m\u001b[0m\u001b[0;34m\u001b[0m\u001b[0m\n\u001b[1;32m    241\u001b[0m     \u001b[0mvariables\u001b[0m\u001b[0;34m.\u001b[0m\u001b[0mupdate\u001b[0m\u001b[0;34m(\u001b[0m\u001b[0mkeywds\u001b[0m\u001b[0;34m)\u001b[0m\u001b[0;34m\u001b[0m\u001b[0;34m\u001b[0m\u001b[0m\n\u001b[0;32m--> 242\u001b[0;31m     \u001b[0;32mreturn\u001b[0m \u001b[0m_open\u001b[0m\u001b[0;34m(\u001b[0m\u001b[0mcgi\u001b[0m\u001b[0;34m,\u001b[0m \u001b[0mvariables\u001b[0m\u001b[0;34m)\u001b[0m\u001b[0;34m\u001b[0m\u001b[0;34m\u001b[0m\u001b[0m\n\u001b[0m\u001b[1;32m    243\u001b[0m \u001b[0;34m\u001b[0m\u001b[0m\n\u001b[1;32m    244\u001b[0m \u001b[0;34m\u001b[0m\u001b[0m\n",
      "\u001b[0;32m/opt/anaconda3/lib/python3.7/site-packages/Bio/Entrez/__init__.py\u001b[0m in \u001b[0;36m_open\u001b[0;34m(cgi, params, post, ecitmatch)\u001b[0m\n\u001b[1;32m    604\u001b[0m                 \u001b[0mhandle\u001b[0m \u001b[0;34m=\u001b[0m \u001b[0murlopen\u001b[0m\u001b[0;34m(\u001b[0m\u001b[0mcgi\u001b[0m\u001b[0;34m,\u001b[0m \u001b[0mdata\u001b[0m\u001b[0;34m=\u001b[0m\u001b[0moptions\u001b[0m\u001b[0;34m.\u001b[0m\u001b[0mencode\u001b[0m\u001b[0;34m(\u001b[0m\u001b[0;34m\"utf8\"\u001b[0m\u001b[0;34m)\u001b[0m\u001b[0;34m)\u001b[0m\u001b[0;34m\u001b[0m\u001b[0;34m\u001b[0m\u001b[0m\n\u001b[1;32m    605\u001b[0m             \u001b[0;32melse\u001b[0m\u001b[0;34m:\u001b[0m\u001b[0;34m\u001b[0m\u001b[0;34m\u001b[0m\u001b[0m\n\u001b[0;32m--> 606\u001b[0;31m                 \u001b[0mhandle\u001b[0m \u001b[0;34m=\u001b[0m \u001b[0murlopen\u001b[0m\u001b[0;34m(\u001b[0m\u001b[0mcgi\u001b[0m\u001b[0;34m)\u001b[0m\u001b[0;34m\u001b[0m\u001b[0;34m\u001b[0m\u001b[0m\n\u001b[0m\u001b[1;32m    607\u001b[0m         \u001b[0;32mexcept\u001b[0m \u001b[0mHTTPError\u001b[0m \u001b[0;32mas\u001b[0m \u001b[0mexception\u001b[0m\u001b[0;34m:\u001b[0m\u001b[0;34m\u001b[0m\u001b[0;34m\u001b[0m\u001b[0m\n\u001b[1;32m    608\u001b[0m             \u001b[0;31m# Reraise if the final try fails\u001b[0m\u001b[0;34m\u001b[0m\u001b[0;34m\u001b[0m\u001b[0;34m\u001b[0m\u001b[0m\n",
      "\u001b[0;32m/opt/anaconda3/lib/python3.7/urllib/request.py\u001b[0m in \u001b[0;36murlopen\u001b[0;34m(url, data, timeout, cafile, capath, cadefault, context)\u001b[0m\n\u001b[1;32m    220\u001b[0m     \u001b[0;32melse\u001b[0m\u001b[0;34m:\u001b[0m\u001b[0;34m\u001b[0m\u001b[0;34m\u001b[0m\u001b[0m\n\u001b[1;32m    221\u001b[0m         \u001b[0mopener\u001b[0m \u001b[0;34m=\u001b[0m \u001b[0m_opener\u001b[0m\u001b[0;34m\u001b[0m\u001b[0;34m\u001b[0m\u001b[0m\n\u001b[0;32m--> 222\u001b[0;31m     \u001b[0;32mreturn\u001b[0m \u001b[0mopener\u001b[0m\u001b[0;34m.\u001b[0m\u001b[0mopen\u001b[0m\u001b[0;34m(\u001b[0m\u001b[0murl\u001b[0m\u001b[0;34m,\u001b[0m \u001b[0mdata\u001b[0m\u001b[0;34m,\u001b[0m \u001b[0mtimeout\u001b[0m\u001b[0;34m)\u001b[0m\u001b[0;34m\u001b[0m\u001b[0;34m\u001b[0m\u001b[0m\n\u001b[0m\u001b[1;32m    223\u001b[0m \u001b[0;34m\u001b[0m\u001b[0m\n\u001b[1;32m    224\u001b[0m \u001b[0;32mdef\u001b[0m \u001b[0minstall_opener\u001b[0m\u001b[0;34m(\u001b[0m\u001b[0mopener\u001b[0m\u001b[0;34m)\u001b[0m\u001b[0;34m:\u001b[0m\u001b[0;34m\u001b[0m\u001b[0;34m\u001b[0m\u001b[0m\n",
      "\u001b[0;32m/opt/anaconda3/lib/python3.7/urllib/request.py\u001b[0m in \u001b[0;36mopen\u001b[0;34m(self, fullurl, data, timeout)\u001b[0m\n\u001b[1;32m    529\u001b[0m         \u001b[0;32mfor\u001b[0m \u001b[0mprocessor\u001b[0m \u001b[0;32min\u001b[0m \u001b[0mself\u001b[0m\u001b[0;34m.\u001b[0m\u001b[0mprocess_response\u001b[0m\u001b[0;34m.\u001b[0m\u001b[0mget\u001b[0m\u001b[0;34m(\u001b[0m\u001b[0mprotocol\u001b[0m\u001b[0;34m,\u001b[0m \u001b[0;34m[\u001b[0m\u001b[0;34m]\u001b[0m\u001b[0;34m)\u001b[0m\u001b[0;34m:\u001b[0m\u001b[0;34m\u001b[0m\u001b[0;34m\u001b[0m\u001b[0m\n\u001b[1;32m    530\u001b[0m             \u001b[0mmeth\u001b[0m \u001b[0;34m=\u001b[0m \u001b[0mgetattr\u001b[0m\u001b[0;34m(\u001b[0m\u001b[0mprocessor\u001b[0m\u001b[0;34m,\u001b[0m \u001b[0mmeth_name\u001b[0m\u001b[0;34m)\u001b[0m\u001b[0;34m\u001b[0m\u001b[0;34m\u001b[0m\u001b[0m\n\u001b[0;32m--> 531\u001b[0;31m             \u001b[0mresponse\u001b[0m \u001b[0;34m=\u001b[0m \u001b[0mmeth\u001b[0m\u001b[0;34m(\u001b[0m\u001b[0mreq\u001b[0m\u001b[0;34m,\u001b[0m \u001b[0mresponse\u001b[0m\u001b[0;34m)\u001b[0m\u001b[0;34m\u001b[0m\u001b[0;34m\u001b[0m\u001b[0m\n\u001b[0m\u001b[1;32m    532\u001b[0m \u001b[0;34m\u001b[0m\u001b[0m\n\u001b[1;32m    533\u001b[0m         \u001b[0;32mreturn\u001b[0m \u001b[0mresponse\u001b[0m\u001b[0;34m\u001b[0m\u001b[0;34m\u001b[0m\u001b[0m\n",
      "\u001b[0;32m/opt/anaconda3/lib/python3.7/urllib/request.py\u001b[0m in \u001b[0;36mhttp_response\u001b[0;34m(self, request, response)\u001b[0m\n\u001b[1;32m    639\u001b[0m         \u001b[0;32mif\u001b[0m \u001b[0;32mnot\u001b[0m \u001b[0;34m(\u001b[0m\u001b[0;36m200\u001b[0m \u001b[0;34m<=\u001b[0m \u001b[0mcode\u001b[0m \u001b[0;34m<\u001b[0m \u001b[0;36m300\u001b[0m\u001b[0;34m)\u001b[0m\u001b[0;34m:\u001b[0m\u001b[0;34m\u001b[0m\u001b[0;34m\u001b[0m\u001b[0m\n\u001b[1;32m    640\u001b[0m             response = self.parent.error(\n\u001b[0;32m--> 641\u001b[0;31m                 'http', request, response, code, msg, hdrs)\n\u001b[0m\u001b[1;32m    642\u001b[0m \u001b[0;34m\u001b[0m\u001b[0m\n\u001b[1;32m    643\u001b[0m         \u001b[0;32mreturn\u001b[0m \u001b[0mresponse\u001b[0m\u001b[0;34m\u001b[0m\u001b[0;34m\u001b[0m\u001b[0m\n",
      "\u001b[0;32m/opt/anaconda3/lib/python3.7/urllib/request.py\u001b[0m in \u001b[0;36merror\u001b[0;34m(self, proto, *args)\u001b[0m\n\u001b[1;32m    567\u001b[0m         \u001b[0;32mif\u001b[0m \u001b[0mhttp_err\u001b[0m\u001b[0;34m:\u001b[0m\u001b[0;34m\u001b[0m\u001b[0;34m\u001b[0m\u001b[0m\n\u001b[1;32m    568\u001b[0m             \u001b[0margs\u001b[0m \u001b[0;34m=\u001b[0m \u001b[0;34m(\u001b[0m\u001b[0mdict\u001b[0m\u001b[0;34m,\u001b[0m \u001b[0;34m'default'\u001b[0m\u001b[0;34m,\u001b[0m \u001b[0;34m'http_error_default'\u001b[0m\u001b[0;34m)\u001b[0m \u001b[0;34m+\u001b[0m \u001b[0morig_args\u001b[0m\u001b[0;34m\u001b[0m\u001b[0;34m\u001b[0m\u001b[0m\n\u001b[0;32m--> 569\u001b[0;31m             \u001b[0;32mreturn\u001b[0m \u001b[0mself\u001b[0m\u001b[0;34m.\u001b[0m\u001b[0m_call_chain\u001b[0m\u001b[0;34m(\u001b[0m\u001b[0;34m*\u001b[0m\u001b[0margs\u001b[0m\u001b[0;34m)\u001b[0m\u001b[0;34m\u001b[0m\u001b[0;34m\u001b[0m\u001b[0m\n\u001b[0m\u001b[1;32m    570\u001b[0m \u001b[0;34m\u001b[0m\u001b[0m\n\u001b[1;32m    571\u001b[0m \u001b[0;31m# XXX probably also want an abstract factory that knows when it makes\u001b[0m\u001b[0;34m\u001b[0m\u001b[0;34m\u001b[0m\u001b[0;34m\u001b[0m\u001b[0m\n",
      "\u001b[0;32m/opt/anaconda3/lib/python3.7/urllib/request.py\u001b[0m in \u001b[0;36m_call_chain\u001b[0;34m(self, chain, kind, meth_name, *args)\u001b[0m\n\u001b[1;32m    501\u001b[0m         \u001b[0;32mfor\u001b[0m \u001b[0mhandler\u001b[0m \u001b[0;32min\u001b[0m \u001b[0mhandlers\u001b[0m\u001b[0;34m:\u001b[0m\u001b[0;34m\u001b[0m\u001b[0;34m\u001b[0m\u001b[0m\n\u001b[1;32m    502\u001b[0m             \u001b[0mfunc\u001b[0m \u001b[0;34m=\u001b[0m \u001b[0mgetattr\u001b[0m\u001b[0;34m(\u001b[0m\u001b[0mhandler\u001b[0m\u001b[0;34m,\u001b[0m \u001b[0mmeth_name\u001b[0m\u001b[0;34m)\u001b[0m\u001b[0;34m\u001b[0m\u001b[0;34m\u001b[0m\u001b[0m\n\u001b[0;32m--> 503\u001b[0;31m             \u001b[0mresult\u001b[0m \u001b[0;34m=\u001b[0m \u001b[0mfunc\u001b[0m\u001b[0;34m(\u001b[0m\u001b[0;34m*\u001b[0m\u001b[0margs\u001b[0m\u001b[0;34m)\u001b[0m\u001b[0;34m\u001b[0m\u001b[0;34m\u001b[0m\u001b[0m\n\u001b[0m\u001b[1;32m    504\u001b[0m             \u001b[0;32mif\u001b[0m \u001b[0mresult\u001b[0m \u001b[0;32mis\u001b[0m \u001b[0;32mnot\u001b[0m \u001b[0;32mNone\u001b[0m\u001b[0;34m:\u001b[0m\u001b[0;34m\u001b[0m\u001b[0;34m\u001b[0m\u001b[0m\n\u001b[1;32m    505\u001b[0m                 \u001b[0;32mreturn\u001b[0m \u001b[0mresult\u001b[0m\u001b[0;34m\u001b[0m\u001b[0;34m\u001b[0m\u001b[0m\n",
      "\u001b[0;32m/opt/anaconda3/lib/python3.7/urllib/request.py\u001b[0m in \u001b[0;36mhttp_error_default\u001b[0;34m(self, req, fp, code, msg, hdrs)\u001b[0m\n\u001b[1;32m    647\u001b[0m \u001b[0;32mclass\u001b[0m \u001b[0mHTTPDefaultErrorHandler\u001b[0m\u001b[0;34m(\u001b[0m\u001b[0mBaseHandler\u001b[0m\u001b[0;34m)\u001b[0m\u001b[0;34m:\u001b[0m\u001b[0;34m\u001b[0m\u001b[0;34m\u001b[0m\u001b[0m\n\u001b[1;32m    648\u001b[0m     \u001b[0;32mdef\u001b[0m \u001b[0mhttp_error_default\u001b[0m\u001b[0;34m(\u001b[0m\u001b[0mself\u001b[0m\u001b[0;34m,\u001b[0m \u001b[0mreq\u001b[0m\u001b[0;34m,\u001b[0m \u001b[0mfp\u001b[0m\u001b[0;34m,\u001b[0m \u001b[0mcode\u001b[0m\u001b[0;34m,\u001b[0m \u001b[0mmsg\u001b[0m\u001b[0;34m,\u001b[0m \u001b[0mhdrs\u001b[0m\u001b[0;34m)\u001b[0m\u001b[0;34m:\u001b[0m\u001b[0;34m\u001b[0m\u001b[0;34m\u001b[0m\u001b[0m\n\u001b[0;32m--> 649\u001b[0;31m         \u001b[0;32mraise\u001b[0m \u001b[0mHTTPError\u001b[0m\u001b[0;34m(\u001b[0m\u001b[0mreq\u001b[0m\u001b[0;34m.\u001b[0m\u001b[0mfull_url\u001b[0m\u001b[0;34m,\u001b[0m \u001b[0mcode\u001b[0m\u001b[0;34m,\u001b[0m \u001b[0mmsg\u001b[0m\u001b[0;34m,\u001b[0m \u001b[0mhdrs\u001b[0m\u001b[0;34m,\u001b[0m \u001b[0mfp\u001b[0m\u001b[0;34m)\u001b[0m\u001b[0;34m\u001b[0m\u001b[0;34m\u001b[0m\u001b[0m\n\u001b[0m\u001b[1;32m    650\u001b[0m \u001b[0;34m\u001b[0m\u001b[0m\n\u001b[1;32m    651\u001b[0m \u001b[0;32mclass\u001b[0m \u001b[0mHTTPRedirectHandler\u001b[0m\u001b[0;34m(\u001b[0m\u001b[0mBaseHandler\u001b[0m\u001b[0;34m)\u001b[0m\u001b[0;34m:\u001b[0m\u001b[0;34m\u001b[0m\u001b[0;34m\u001b[0m\u001b[0m\n",
      "\u001b[0;31mHTTPError\u001b[0m: HTTP Error 429: Too Many Requests"
     ]
    }
   ],
   "source": [
    "Result = []\n",
    "\n",
    "Entrez.email = \"anandas.georges@gmail.com\"     # Always tell NCBI who you are\n",
    "my_molecules=[\"coibanol\", \"bastimolide\", \"coibamide\", \"briarellin\", \"santacruzamate\", \"gallinamide A\", \"coibacins\", \"bacilosarcin A\", \"medusamide\", \\\n",
    "              \"credneramides\", \"seco-briarellinone\", \"pseudopterane diterpene\", \"[d-MeAla11]-epimer\"]\n",
    "diseases=[\"Buruli Ulcer\", \"buruli ulcer\", \"Cancer\", \"cancer\", \"Chagas Disease\", \"chagas disease\", \"Chromoblastomycosis\", \"chromoblastomycosis\", \\\n",
    "          \"Cysticercosis\", \"cysticercosis\", \"Dengue Fever\", \"dengue fever\", \"Dracunculiasis\", \"dracunculiasis\", \"Guinea Worm Disease\", \"guinea worm disease\", \\\n",
    "          \"Echinococcosis\", \"echinococcosis\", \"Fascioliasis\", \"fascioliasis\", \"African Trypanosomiasis\", \"african trypanosomiasis\", \\\n",
    "          \"African Sleeping Sickness\", \"african sleeping sickness\", \"Leishmaniasis\", \"leishmaniasis\", \"Leprosy\", \"leprosy\", \"Hansen’s Disease\", \\\n",
    "          \"Hansen’s Disease\", \"hansen’s disease\", \"Lymphatic Filariasis\", \"lymphatic filariasis\", \"malaria\", \\\n",
    "          \"Mycetoma\", \"mycetoma\", \"Onchocerciasis\", \"onchocerciasis\", \"Rabies\", \"rabies\", \"Schistosomiasis\", \"schistosomiasis\", \\\n",
    "          \"Soil-transmitted Helminths\", \"soil-transmitted selminths\", \"Ascaris\", \"ascaris\", \"Hookworm\", \"hookworm\", \"Whipworm\", \"whipworm\", \\\n",
    "          \"Trachoma\", \"trachoma\", \"Yaws\", \"yaws\", \"Disease\", \"disease\"]\n",
    "\n",
    "for molecule in my_molecules:\n",
    "    print(molecule)\n",
    "    handle = Entrez.esearch(db=\"PMC\", term=molecule, sort=\"relevance\", retmode=\"xml\")\n",
    "    record = Entrez.read(handle)\n",
    "    idlist = record[\"IdList\"]\n",
    "\n",
    "    if (int(record[\"Count\"])>0):\n",
    "      \n",
    "      for index in list(record[\"IdList\"]):\n",
    "          handle = Entrez.efetch(db=\"PMC\", id=index, rettype=\"medline\")\n",
    "          records = Medline.parse(handle)\n",
    "          records = list(records)\n",
    "          \n",
    "          #to iterate trough records and to extract the papers' info\n",
    "          for record in records: \n",
    "              title=record.get(\"TI\", \"?\")\n",
    "\n",
    "              authors=record.get(\"AU\", \"?\")\n",
    "              authors =','.join([str(item) for item in authors ])\n",
    "              authorsnum=len(record.get(\"FAU\", \"?\"))\n",
    "\n",
    "              abstract = record.get(\"AB\", \"?\")\n",
    "\n",
    "              textaffiliacion=record.get(\"AD\", \"?\")\n",
    "\n",
    "              #To look for all Panamanian authors based on affiliation\n",
    "              listpanama = re.findall(r\"Panam[a|á]\", str(textaffiliacion))\n",
    "              \n",
    "              \n",
    "              \n",
    "              #To calculate % of Panamanian authors in each paper\n",
    "              modlistpanama=(len(listpanama) / len(textaffiliacion))\n",
    "              if (modlistpanama==1):\n",
    "                  countpanama=len(textaffiliacion)\n",
    "              else:\n",
    "                  countpanama=len(listpanama) #Num of Panamanian authors\n",
    "\n",
    "              #score=Num of Panamanian authors/total authors\n",
    "              if (countpanama == 0.0):\n",
    "                  score=0\n",
    "              elif (countpanama > 0.0):\n",
    "                  score=modlistpanama\n",
    "\n",
    "              #to find papers related with the list of NTD (neglected tropical diseases) + cancer and other diseases\n",
    "              dis=[]\n",
    "              for i in diseases:\n",
    "                if i in abstract:\n",
    "                  dis.append(i)\n",
    "              disfound =', '.join([str(item) for item in dis])\n",
    "\n",
    "              #to generate data frame with all info\n",
    "              Result.append([molecule,index,title,authors,authorsnum,countpanama,score,disfound,dis])\n",
    "\n",
    "publication_data = pd.DataFrame(Result)\n",
    "#print (len(publication_data))\n",
    "publication_data.rename(columns={0:'MOLECULE',1:'PMC',2:'TITLE',3:'AUTHORS',4:'QUANTITY',5:'Affiliation',6:'COUNT PANAMA',7:'Score', 8:'Diseases',9:'Diseases Array'}, inplace=True)\n",
    "print(publication_data)\n",
    "\n",
    "publication_data.to_csv(\"resultados.csv\")"
   ]
  },
  {
   "cell_type": "markdown",
   "metadata": {
    "id": "CJW9DqSVPAqs"
   },
   "source": [
    "**Generating Authorship and Co-authorship in Published Articles**"
   ]
  },
  {
   "cell_type": "code",
   "execution_count": null,
   "metadata": {
    "colab": {
     "base_uri": "https://localhost:8080/",
     "height": 467
    },
    "id": "pnc40aXt3dvB",
    "outputId": "ee0e9f98-2810-4fcc-aafa-a1488e71bd40"
   },
   "outputs": [
    {
     "ename": "FileNotFoundError",
     "evalue": "ignored",
     "output_type": "error",
     "traceback": [
      "\u001b[0;31m---------------------------------------------------------------------------\u001b[0m",
      "\u001b[0;31mFileNotFoundError\u001b[0m                         Traceback (most recent call last)",
      "\u001b[0;32m<ipython-input-54-64e0b926e0af>\u001b[0m in \u001b[0;36m<module>\u001b[0;34m()\u001b[0m\n\u001b[1;32m      9\u001b[0m \u001b[0mcont\u001b[0m\u001b[0;34m=\u001b[0m\u001b[0;36m0\u001b[0m\u001b[0;34m\u001b[0m\u001b[0;34m\u001b[0m\u001b[0m\n\u001b[1;32m     10\u001b[0m \u001b[0;34m\u001b[0m\u001b[0m\n\u001b[0;32m---> 11\u001b[0;31m \u001b[0mpublication_data\u001b[0m \u001b[0;34m=\u001b[0m \u001b[0mpd\u001b[0m\u001b[0;34m.\u001b[0m\u001b[0mread_csv\u001b[0m\u001b[0;34m(\u001b[0m\u001b[0;34m\"resultados.csv\"\u001b[0m\u001b[0;34m)\u001b[0m\u001b[0;34m\u001b[0m\u001b[0;34m\u001b[0m\u001b[0m\n\u001b[0m\u001b[1;32m     12\u001b[0m \u001b[0;34m\u001b[0m\u001b[0m\n\u001b[1;32m     13\u001b[0m \u001b[0mprint\u001b[0m\u001b[0;34m(\u001b[0m\u001b[0mpublication_data\u001b[0m \u001b[0;34m)\u001b[0m\u001b[0;34m\u001b[0m\u001b[0;34m\u001b[0m\u001b[0m\n",
      "\u001b[0;32m/usr/local/lib/python3.6/dist-packages/pandas/io/parsers.py\u001b[0m in \u001b[0;36mread_csv\u001b[0;34m(filepath_or_buffer, sep, delimiter, header, names, index_col, usecols, squeeze, prefix, mangle_dupe_cols, dtype, engine, converters, true_values, false_values, skipinitialspace, skiprows, skipfooter, nrows, na_values, keep_default_na, na_filter, verbose, skip_blank_lines, parse_dates, infer_datetime_format, keep_date_col, date_parser, dayfirst, cache_dates, iterator, chunksize, compression, thousands, decimal, lineterminator, quotechar, quoting, doublequote, escapechar, comment, encoding, dialect, error_bad_lines, warn_bad_lines, delim_whitespace, low_memory, memory_map, float_precision)\u001b[0m\n\u001b[1;32m    684\u001b[0m     )\n\u001b[1;32m    685\u001b[0m \u001b[0;34m\u001b[0m\u001b[0m\n\u001b[0;32m--> 686\u001b[0;31m     \u001b[0;32mreturn\u001b[0m \u001b[0m_read\u001b[0m\u001b[0;34m(\u001b[0m\u001b[0mfilepath_or_buffer\u001b[0m\u001b[0;34m,\u001b[0m \u001b[0mkwds\u001b[0m\u001b[0;34m)\u001b[0m\u001b[0;34m\u001b[0m\u001b[0;34m\u001b[0m\u001b[0m\n\u001b[0m\u001b[1;32m    687\u001b[0m \u001b[0;34m\u001b[0m\u001b[0m\n\u001b[1;32m    688\u001b[0m \u001b[0;34m\u001b[0m\u001b[0m\n",
      "\u001b[0;32m/usr/local/lib/python3.6/dist-packages/pandas/io/parsers.py\u001b[0m in \u001b[0;36m_read\u001b[0;34m(filepath_or_buffer, kwds)\u001b[0m\n\u001b[1;32m    450\u001b[0m \u001b[0;34m\u001b[0m\u001b[0m\n\u001b[1;32m    451\u001b[0m     \u001b[0;31m# Create the parser.\u001b[0m\u001b[0;34m\u001b[0m\u001b[0;34m\u001b[0m\u001b[0;34m\u001b[0m\u001b[0m\n\u001b[0;32m--> 452\u001b[0;31m     \u001b[0mparser\u001b[0m \u001b[0;34m=\u001b[0m \u001b[0mTextFileReader\u001b[0m\u001b[0;34m(\u001b[0m\u001b[0mfp_or_buf\u001b[0m\u001b[0;34m,\u001b[0m \u001b[0;34m**\u001b[0m\u001b[0mkwds\u001b[0m\u001b[0;34m)\u001b[0m\u001b[0;34m\u001b[0m\u001b[0;34m\u001b[0m\u001b[0m\n\u001b[0m\u001b[1;32m    453\u001b[0m \u001b[0;34m\u001b[0m\u001b[0m\n\u001b[1;32m    454\u001b[0m     \u001b[0;32mif\u001b[0m \u001b[0mchunksize\u001b[0m \u001b[0;32mor\u001b[0m \u001b[0miterator\u001b[0m\u001b[0;34m:\u001b[0m\u001b[0;34m\u001b[0m\u001b[0;34m\u001b[0m\u001b[0m\n",
      "\u001b[0;32m/usr/local/lib/python3.6/dist-packages/pandas/io/parsers.py\u001b[0m in \u001b[0;36m__init__\u001b[0;34m(self, f, engine, **kwds)\u001b[0m\n\u001b[1;32m    944\u001b[0m             \u001b[0mself\u001b[0m\u001b[0;34m.\u001b[0m\u001b[0moptions\u001b[0m\u001b[0;34m[\u001b[0m\u001b[0;34m\"has_index_names\"\u001b[0m\u001b[0;34m]\u001b[0m \u001b[0;34m=\u001b[0m \u001b[0mkwds\u001b[0m\u001b[0;34m[\u001b[0m\u001b[0;34m\"has_index_names\"\u001b[0m\u001b[0;34m]\u001b[0m\u001b[0;34m\u001b[0m\u001b[0;34m\u001b[0m\u001b[0m\n\u001b[1;32m    945\u001b[0m \u001b[0;34m\u001b[0m\u001b[0m\n\u001b[0;32m--> 946\u001b[0;31m         \u001b[0mself\u001b[0m\u001b[0;34m.\u001b[0m\u001b[0m_make_engine\u001b[0m\u001b[0;34m(\u001b[0m\u001b[0mself\u001b[0m\u001b[0;34m.\u001b[0m\u001b[0mengine\u001b[0m\u001b[0;34m)\u001b[0m\u001b[0;34m\u001b[0m\u001b[0;34m\u001b[0m\u001b[0m\n\u001b[0m\u001b[1;32m    947\u001b[0m \u001b[0;34m\u001b[0m\u001b[0m\n\u001b[1;32m    948\u001b[0m     \u001b[0;32mdef\u001b[0m \u001b[0mclose\u001b[0m\u001b[0;34m(\u001b[0m\u001b[0mself\u001b[0m\u001b[0;34m)\u001b[0m\u001b[0;34m:\u001b[0m\u001b[0;34m\u001b[0m\u001b[0;34m\u001b[0m\u001b[0m\n",
      "\u001b[0;32m/usr/local/lib/python3.6/dist-packages/pandas/io/parsers.py\u001b[0m in \u001b[0;36m_make_engine\u001b[0;34m(self, engine)\u001b[0m\n\u001b[1;32m   1176\u001b[0m     \u001b[0;32mdef\u001b[0m \u001b[0m_make_engine\u001b[0m\u001b[0;34m(\u001b[0m\u001b[0mself\u001b[0m\u001b[0;34m,\u001b[0m \u001b[0mengine\u001b[0m\u001b[0;34m=\u001b[0m\u001b[0;34m\"c\"\u001b[0m\u001b[0;34m)\u001b[0m\u001b[0;34m:\u001b[0m\u001b[0;34m\u001b[0m\u001b[0;34m\u001b[0m\u001b[0m\n\u001b[1;32m   1177\u001b[0m         \u001b[0;32mif\u001b[0m \u001b[0mengine\u001b[0m \u001b[0;34m==\u001b[0m \u001b[0;34m\"c\"\u001b[0m\u001b[0;34m:\u001b[0m\u001b[0;34m\u001b[0m\u001b[0;34m\u001b[0m\u001b[0m\n\u001b[0;32m-> 1178\u001b[0;31m             \u001b[0mself\u001b[0m\u001b[0;34m.\u001b[0m\u001b[0m_engine\u001b[0m \u001b[0;34m=\u001b[0m \u001b[0mCParserWrapper\u001b[0m\u001b[0;34m(\u001b[0m\u001b[0mself\u001b[0m\u001b[0;34m.\u001b[0m\u001b[0mf\u001b[0m\u001b[0;34m,\u001b[0m \u001b[0;34m**\u001b[0m\u001b[0mself\u001b[0m\u001b[0;34m.\u001b[0m\u001b[0moptions\u001b[0m\u001b[0;34m)\u001b[0m\u001b[0;34m\u001b[0m\u001b[0;34m\u001b[0m\u001b[0m\n\u001b[0m\u001b[1;32m   1179\u001b[0m         \u001b[0;32melse\u001b[0m\u001b[0;34m:\u001b[0m\u001b[0;34m\u001b[0m\u001b[0;34m\u001b[0m\u001b[0m\n\u001b[1;32m   1180\u001b[0m             \u001b[0;32mif\u001b[0m \u001b[0mengine\u001b[0m \u001b[0;34m==\u001b[0m \u001b[0;34m\"python\"\u001b[0m\u001b[0;34m:\u001b[0m\u001b[0;34m\u001b[0m\u001b[0;34m\u001b[0m\u001b[0m\n",
      "\u001b[0;32m/usr/local/lib/python3.6/dist-packages/pandas/io/parsers.py\u001b[0m in \u001b[0;36m__init__\u001b[0;34m(self, src, **kwds)\u001b[0m\n\u001b[1;32m   2006\u001b[0m         \u001b[0mkwds\u001b[0m\u001b[0;34m[\u001b[0m\u001b[0;34m\"usecols\"\u001b[0m\u001b[0;34m]\u001b[0m \u001b[0;34m=\u001b[0m \u001b[0mself\u001b[0m\u001b[0;34m.\u001b[0m\u001b[0musecols\u001b[0m\u001b[0;34m\u001b[0m\u001b[0;34m\u001b[0m\u001b[0m\n\u001b[1;32m   2007\u001b[0m \u001b[0;34m\u001b[0m\u001b[0m\n\u001b[0;32m-> 2008\u001b[0;31m         \u001b[0mself\u001b[0m\u001b[0;34m.\u001b[0m\u001b[0m_reader\u001b[0m \u001b[0;34m=\u001b[0m \u001b[0mparsers\u001b[0m\u001b[0;34m.\u001b[0m\u001b[0mTextReader\u001b[0m\u001b[0;34m(\u001b[0m\u001b[0msrc\u001b[0m\u001b[0;34m,\u001b[0m \u001b[0;34m**\u001b[0m\u001b[0mkwds\u001b[0m\u001b[0;34m)\u001b[0m\u001b[0;34m\u001b[0m\u001b[0;34m\u001b[0m\u001b[0m\n\u001b[0m\u001b[1;32m   2009\u001b[0m         \u001b[0mself\u001b[0m\u001b[0;34m.\u001b[0m\u001b[0munnamed_cols\u001b[0m \u001b[0;34m=\u001b[0m \u001b[0mself\u001b[0m\u001b[0;34m.\u001b[0m\u001b[0m_reader\u001b[0m\u001b[0;34m.\u001b[0m\u001b[0munnamed_cols\u001b[0m\u001b[0;34m\u001b[0m\u001b[0;34m\u001b[0m\u001b[0m\n\u001b[1;32m   2010\u001b[0m \u001b[0;34m\u001b[0m\u001b[0m\n",
      "\u001b[0;32mpandas/_libs/parsers.pyx\u001b[0m in \u001b[0;36mpandas._libs.parsers.TextReader.__cinit__\u001b[0;34m()\u001b[0m\n",
      "\u001b[0;32mpandas/_libs/parsers.pyx\u001b[0m in \u001b[0;36mpandas._libs.parsers.TextReader._setup_parser_source\u001b[0;34m()\u001b[0m\n",
      "\u001b[0;31mFileNotFoundError\u001b[0m: [Errno 2] No such file or directory: 'resultados.csv'"
     ]
    }
   ],
   "source": [
    "sns.set_style(\"white\")\n",
    "\n",
    "Resulta = [] \n",
    "autores=[]\n",
    "instituciones=[]\n",
    "institucionesall=[]\n",
    "cont=0\n",
    "\n",
    "publication_data = pd.read_csv(\"resultados.csv\")\n",
    "\n",
    "print(publication_data )\n",
    "\n",
    "print(publication_data.groupby(by=[\"MOLECULE\"]).count() )\n",
    "\n",
    "AU = publication_data.AUTHORS.str.get_dummies(sep=',').sum().sort_values(ascending=False)\n",
    "TOP = AU.reset_index()            \n",
    "TOP.rename(columns={0:'Abundance'}, inplace=True)\n",
    "print(TOP)\n",
    "print(TOP.iloc[0:10])\n",
    "\n",
    "auseries=pd.DataFrame(autores)\n",
    "print(auseries.apply(pd.Series.value_counts))\n",
    "newauseries=(auseries.apply(pd.Series.value_counts))\n",
    "auseries.to_csv(\"autores.csv\")\n",
    "newauseries.to_csv(\"autoresvalues.csv\")\n",
    "\n",
    "for ii in publication_data['Affiliation'].index:\n",
    "  linea=publication_data['Affiliation'][ii]\n",
    "\n",
    "listpanama = re.findall(r\"Panam[á|a]\", str(linea) )\n",
    "if listpanama:\n",
    "  listindicasat = re.findall(r\"Instituto de Investigaciones Cient[í|i]ficas Avanzados y Sevicios de Alta Tecnolog[í|i]a\", str(linea))\n",
    "\n",
    "if listindicasat:\n",
    "  instituciones.append(listindicasat)\n",
    "  \n",
    "listindicasat2 = re.findall(r\"INDICASAT\", str(linea))\n",
    "if listindicasat2:\n",
    "  instituciones.append(listindicasat2)\n",
    "\n",
    "listuniv = re.findall(r\"University of Panam[á|a]\", str(linea))\n",
    "\n",
    "if listuniv:\n",
    "  instituciones.append(listuniv)\n",
    "\n",
    "listuniv2 = re.findall(r\"Universidad de Panam[á|a]\", str(linea))\n",
    "if listuniv2:\n",
    "  instituciones.append(listuniv2)\n",
    "\n",
    "gorgas = re.findall(r\"Gorgas\", str(linea))\n",
    "if gorgas:\n",
    "  instituciones.append(gorgas)\n",
    "\n",
    "tecnologica = re.findall(r\"Universidad Tecnol[ó|o]gica de Panam[á|a]\", str(linea))\n",
    "if tecnologica:\n",
    "  instituciones.append(tecnologica)    \n",
    "\n",
    "Smithsonian= re.findall(r\"Smithsonian Tropical Research Institute\", str(linea))\n",
    "if Smithsonian:\n",
    "  instituciones.append(Smithsonian)\n",
    "\n",
    "for i in instituciones:\n",
    "  for x in i:\n",
    "    institucionesall.append(x)\n",
    "print(autores)\n",
    "\n",
    "x=input()\n",
    "\n",
    "print(\"total de Instituciones Panameñas = \",len(institucionesall))\n",
    "\n",
    "instseries=pd.DataFrame(institucionesall)\n",
    "print(instseries.apply(pd.Series.value_counts))\n",
    "newintseries=(instseries.apply(pd.Series.value_counts))\n",
    "\n",
    "instseries.to_csv(\"instituciones.csv\")\n",
    "newintseries.to_csv(\"institucionesvalues.csv\")\n",
    "\n",
    "print(publication_data.columns)\n",
    "just_panama=publication_data[publication_data['COUNT PANAMA'] >= 1]\n",
    "print(just_panama)\n",
    "print(just_panama['COUNT PANAMA'])\n",
    "print(just_panama['COUNT PANAMA']/just_panama['QUANTITY'])\n",
    "\n",
    "score2=just_panama['COUNT PANAMA']/just_panama['QUANTITY']\n",
    "\n",
    "plt.figure()\n",
    "plt.hist(score2,bins=4)\n",
    "plt.ylabel('Frequency')\n",
    "plt.xlabel('Score')\n",
    "plt.show()\n",
    "\n",
    "plt.figure()\n",
    "plt.hist(publication_data['COUNT PANAMA'],bins=5)\n",
    "plt.ylabel('Frequency')\n",
    "plt.xlabel('Counts')\n",
    "plt.show()"
   ]
  },
  {
   "cell_type": "markdown",
   "metadata": {
    "id": "u6JwN8eufMfB"
   },
   "source": [
    "**Dataframe**"
   ]
  },
  {
   "cell_type": "code",
   "execution_count": null,
   "metadata": {
    "colab": {
     "base_uri": "https://localhost:8080/",
     "height": 597
    },
    "id": "9aJ_63pmwwTC",
    "outputId": "538939a9-c4f3-4af3-993e-611beda50914"
   },
   "outputs": [
    {
     "data": {
      "text/html": [
       "<div>\n",
       "<style scoped>\n",
       "    .dataframe tbody tr th:only-of-type {\n",
       "        vertical-align: middle;\n",
       "    }\n",
       "\n",
       "    .dataframe tbody tr th {\n",
       "        vertical-align: top;\n",
       "    }\n",
       "\n",
       "    .dataframe thead th {\n",
       "        text-align: right;\n",
       "    }\n",
       "</style>\n",
       "<table border=\"1\" class=\"dataframe\">\n",
       "  <thead>\n",
       "    <tr style=\"text-align: right;\">\n",
       "      <th></th>\n",
       "      <th>MOLECULE</th>\n",
       "      <th>PMC</th>\n",
       "      <th>TITLE</th>\n",
       "      <th>AUTHORS</th>\n",
       "      <th>QUANTITY</th>\n",
       "      <th>COUNT PANAMA</th>\n",
       "      <th>Score</th>\n",
       "      <th>Diseases</th>\n",
       "      <th>8</th>\n",
       "    </tr>\n",
       "  </thead>\n",
       "  <tbody>\n",
       "    <tr>\n",
       "      <th>0</th>\n",
       "      <td>coibanol</td>\n",
       "      <td>4148033</td>\n",
       "      <td>Coibanoles, a new class of meroterpenoids prod...</td>\n",
       "      <td>Molinar E,Rios N,Spadafora C,Arnold AE,Coley P...</td>\n",
       "      <td>8</td>\n",
       "      <td>7</td>\n",
       "      <td>0.875</td>\n",
       "      <td></td>\n",
       "      <td>[]</td>\n",
       "    </tr>\n",
       "    <tr>\n",
       "      <th>1</th>\n",
       "      <td>coibanol</td>\n",
       "      <td>3475268</td>\n",
       "      <td>Meroterpenes from Endophytic Fungus A1 of Mang...</td>\n",
       "      <td>Mei WL,Zheng B,Zhao YX,Zhong HM,Chen XLW,Zeng ...</td>\n",
       "      <td>10</td>\n",
       "      <td>0</td>\n",
       "      <td>0.000</td>\n",
       "      <td></td>\n",
       "      <td>[]</td>\n",
       "    </tr>\n",
       "    <tr>\n",
       "      <th>2</th>\n",
       "      <td>bastimolide</td>\n",
       "      <td>7180531</td>\n",
       "      <td>Palstimolide A: A Complex Polyhydroxy Macrolid...</td>\n",
       "      <td>Keller L,Siqueira-Neto JL,Souza JM,Eribez K,La...</td>\n",
       "      <td>7</td>\n",
       "      <td>0</td>\n",
       "      <td>0.000</td>\n",
       "      <td>malaria</td>\n",
       "      <td>[malaria]</td>\n",
       "    </tr>\n",
       "    <tr>\n",
       "      <th>3</th>\n",
       "      <td>bastimolide</td>\n",
       "      <td>5450532</td>\n",
       "      <td>A Review Study on Macrolides Isolated from Cya...</td>\n",
       "      <td>Wang M,Zhang J,He S,Yan X</td>\n",
       "      <td>4</td>\n",
       "      <td>0</td>\n",
       "      <td>0.000</td>\n",
       "      <td></td>\n",
       "      <td>[]</td>\n",
       "    </tr>\n",
       "    <tr>\n",
       "      <th>4</th>\n",
       "      <td>bastimolide</td>\n",
       "      <td>6896759</td>\n",
       "      <td>Antiplasmodial natural products: an update.</td>\n",
       "      <td>Tajuddeen N,Van Heerden FR</td>\n",
       "      <td>2</td>\n",
       "      <td>0</td>\n",
       "      <td>0.000</td>\n",
       "      <td>malaria</td>\n",
       "      <td>[malaria]</td>\n",
       "    </tr>\n",
       "    <tr>\n",
       "      <th>...</th>\n",
       "      <td>...</td>\n",
       "      <td>...</td>\n",
       "      <td>...</td>\n",
       "      <td>...</td>\n",
       "      <td>...</td>\n",
       "      <td>...</td>\n",
       "      <td>...</td>\n",
       "      <td>...</td>\n",
       "      <td>...</td>\n",
       "    </tr>\n",
       "    <tr>\n",
       "      <th>147</th>\n",
       "      <td>pseudopterane diterpene</td>\n",
       "      <td>5852477</td>\n",
       "      <td>Chloro-Furanocembranolides from Leptogorgia sp...</td>\n",
       "      <td>Gallardo AB,Díaz-Marrero AR,de la Rosa JM,D’Cr...</td>\n",
       "      <td>8</td>\n",
       "      <td>3</td>\n",
       "      <td>0.375</td>\n",
       "      <td></td>\n",
       "      <td>[]</td>\n",
       "    </tr>\n",
       "    <tr>\n",
       "      <th>148</th>\n",
       "      <td>pseudopterane diterpene</td>\n",
       "      <td>3728638</td>\n",
       "      <td>Use of a palladium(II)-catalyzed oxidative kin...</td>\n",
       "      <td>Meyer ME,Phillips JH,Ferreira EM,Stoltz BM</td>\n",
       "      <td>4</td>\n",
       "      <td>0</td>\n",
       "      <td>0.000</td>\n",
       "      <td></td>\n",
       "      <td>[]</td>\n",
       "    </tr>\n",
       "    <tr>\n",
       "      <th>149</th>\n",
       "      <td>pseudopterane diterpene</td>\n",
       "      <td>3677362</td>\n",
       "      <td>New taxa and revisionary systematics of alcyon...</td>\n",
       "      <td>Williams GC</td>\n",
       "      <td>1</td>\n",
       "      <td>0</td>\n",
       "      <td>0.000</td>\n",
       "      <td></td>\n",
       "      <td>[]</td>\n",
       "    </tr>\n",
       "    <tr>\n",
       "      <th>150</th>\n",
       "      <td>[d-MeAla11]-epimer</td>\n",
       "      <td>4342349</td>\n",
       "      <td>Synthesis and Biological Evaluation of the [d-...</td>\n",
       "      <td>Nabika R,Suyama TL,Hau AM,Misu R,Ohno H,Ishmae...</td>\n",
       "      <td>9</td>\n",
       "      <td>0</td>\n",
       "      <td>0.000</td>\n",
       "      <td>cancer</td>\n",
       "      <td>[cancer]</td>\n",
       "    </tr>\n",
       "    <tr>\n",
       "      <th>151</th>\n",
       "      <td>[d-MeAla11]-epimer</td>\n",
       "      <td>7497630</td>\n",
       "      <td>Coibamide A Targets Sec61 to Prevent Biogenesi...</td>\n",
       "      <td>Tranter D,Paatero AO,Kawaguchi S,Kazemi S,Serr...</td>\n",
       "      <td>15</td>\n",
       "      <td>0</td>\n",
       "      <td>0.000</td>\n",
       "      <td>cancer</td>\n",
       "      <td>[cancer]</td>\n",
       "    </tr>\n",
       "  </tbody>\n",
       "</table>\n",
       "<p>152 rows × 9 columns</p>\n",
       "</div>"
      ],
      "text/plain": [
       "                    MOLECULE      PMC  ... Diseases          8\n",
       "0                   coibanol  4148033  ...                  []\n",
       "1                   coibanol  3475268  ...                  []\n",
       "2                bastimolide  7180531  ...  malaria  [malaria]\n",
       "3                bastimolide  5450532  ...                  []\n",
       "4                bastimolide  6896759  ...  malaria  [malaria]\n",
       "..                       ...      ...  ...      ...        ...\n",
       "147  pseudopterane diterpene  5852477  ...                  []\n",
       "148  pseudopterane diterpene  3728638  ...                  []\n",
       "149  pseudopterane diterpene  3677362  ...                  []\n",
       "150       [d-MeAla11]-epimer  4342349  ...   cancer   [cancer]\n",
       "151       [d-MeAla11]-epimer  7497630  ...   cancer   [cancer]\n",
       "\n",
       "[152 rows x 9 columns]"
      ]
     },
     "execution_count": 55,
     "metadata": {
      "tags": []
     },
     "output_type": "execute_result"
    }
   ],
   "source": [
    "from collections import Counter\n",
    "import seaborn as sns\n",
    "import matplotlib.pyplot as plt\n",
    "sns.set_style(\"white\")\n",
    "publication_data = pd.DataFrame(Result)\n",
    "#print (len(publication_data))\n",
    "publication_data.rename(columns={0:'MOLECULE',1:'PMC',2:'TITLE',3:'AUTHORS',4:'QUANTITY',5:'COUNT PANAMA',6:'Score', 7:'Diseases'}, inplace=True)\n",
    "publication_data\n",
    "\n"
   ]
  },
  {
   "cell_type": "markdown",
   "metadata": {
    "id": "46yAecb2fjnF"
   },
   "source": [
    "**Calculating how many papers, on the topic, has each author**"
   ]
  },
  {
   "cell_type": "code",
   "execution_count": null,
   "metadata": {
    "colab": {
     "base_uri": "https://localhost:8080/",
     "height": 407
    },
    "id": "Ksi3nQZk285I",
    "outputId": "72c0aea0-5135-4a9c-8cbb-b4f41c79064a"
   },
   "outputs": [
    {
     "data": {
      "text/html": [
       "<div>\n",
       "<style scoped>\n",
       "    .dataframe tbody tr th:only-of-type {\n",
       "        vertical-align: middle;\n",
       "    }\n",
       "\n",
       "    .dataframe tbody tr th {\n",
       "        vertical-align: top;\n",
       "    }\n",
       "\n",
       "    .dataframe thead th {\n",
       "        text-align: right;\n",
       "    }\n",
       "</style>\n",
       "<table border=\"1\" class=\"dataframe\">\n",
       "  <thead>\n",
       "    <tr style=\"text-align: right;\">\n",
       "      <th></th>\n",
       "      <th>index</th>\n",
       "      <th>Abundance</th>\n",
       "    </tr>\n",
       "  </thead>\n",
       "  <tbody>\n",
       "    <tr>\n",
       "      <th>0</th>\n",
       "      <td>Gerwick WH</td>\n",
       "      <td>24</td>\n",
       "    </tr>\n",
       "    <tr>\n",
       "      <th>1</th>\n",
       "      <td>McPhail KL</td>\n",
       "      <td>14</td>\n",
       "    </tr>\n",
       "    <tr>\n",
       "      <th>2</th>\n",
       "      <td>Gutiérrez M</td>\n",
       "      <td>10</td>\n",
       "    </tr>\n",
       "    <tr>\n",
       "      <th>3</th>\n",
       "      <td>Rodríguez AD</td>\n",
       "      <td>8</td>\n",
       "    </tr>\n",
       "    <tr>\n",
       "      <th>4</th>\n",
       "      <td>Ishmael JE</td>\n",
       "      <td>8</td>\n",
       "    </tr>\n",
       "    <tr>\n",
       "      <th>...</th>\n",
       "      <td>...</td>\n",
       "      <td>...</td>\n",
       "    </tr>\n",
       "    <tr>\n",
       "      <th>635</th>\n",
       "      <td>Tang N</td>\n",
       "      <td>1</td>\n",
       "    </tr>\n",
       "    <tr>\n",
       "      <th>636</th>\n",
       "      <td>Tan M</td>\n",
       "      <td>1</td>\n",
       "    </tr>\n",
       "    <tr>\n",
       "      <th>637</th>\n",
       "      <td>LaMonte GM</td>\n",
       "      <td>1</td>\n",
       "    </tr>\n",
       "    <tr>\n",
       "      <th>638</th>\n",
       "      <td>Lai PY</td>\n",
       "      <td>1</td>\n",
       "    </tr>\n",
       "    <tr>\n",
       "      <th>639</th>\n",
       "      <td>Lim S</td>\n",
       "      <td>1</td>\n",
       "    </tr>\n",
       "  </tbody>\n",
       "</table>\n",
       "<p>640 rows × 2 columns</p>\n",
       "</div>"
      ],
      "text/plain": [
       "            index  Abundance\n",
       "0      Gerwick WH         24\n",
       "1      McPhail KL         14\n",
       "2     Gutiérrez M         10\n",
       "3    Rodríguez AD          8\n",
       "4      Ishmael JE          8\n",
       "..            ...        ...\n",
       "635        Tang N          1\n",
       "636         Tan M          1\n",
       "637    LaMonte GM          1\n",
       "638        Lai PY          1\n",
       "639         Lim S          1\n",
       "\n",
       "[640 rows x 2 columns]"
      ]
     },
     "execution_count": 18,
     "metadata": {
      "tags": []
     },
     "output_type": "execute_result"
    }
   ],
   "source": [
    "#Separate the names in the cells of Authors column.\n",
    "AU = publication_data.AUTHORS.str.get_dummies(sep=',').sum().sort_values(ascending=False)\n",
    "TOP = AU.reset_index()            \n",
    "TOP.rename(columns={0:'Abundance'}, inplace=True)\n",
    "TOP"
   ]
  },
  {
   "cell_type": "markdown",
   "metadata": {
    "id": "bPYzWjyzghyQ"
   },
   "source": [
    "**Extracting diseases names from abstracts**"
   ]
  },
  {
   "cell_type": "code",
   "execution_count": null,
   "metadata": {
    "colab": {
     "base_uri": "https://localhost:8080/",
     "height": 35
    },
    "id": "0tzLBDGNjMJj",
    "outputId": "9ed9dca3-db3f-4d83-d90d-c04b2c9b0787"
   },
   "outputs": [
    {
     "name": "stdout",
     "output_type": "stream",
     "text": [
      "152\n"
     ]
    }
   ],
   "source": [
    "molecules_diseases={}\n",
    "enfermedades=[]\n",
    "enfermedades_por_moleculas=[]\n",
    "\n",
    "for i,k in enumerate(publication_data[\"MOLECULE\"]):\n",
    "  for m,n in enumerate(my_molecules):\n",
    "    if k==n:\n",
    "      enfermedades.append([k, publication_data[8][i]])\n",
    "  enfermedades_por_moleculas.append(enfermedades)\n",
    "print(len(enfermedades))"
   ]
  },
  {
   "cell_type": "markdown",
   "metadata": {
    "id": "ntS4WZyRiTvr"
   },
   "source": [
    "**Creating a dictionary molecule-diseases**"
   ]
  },
  {
   "cell_type": "code",
   "execution_count": null,
   "metadata": {
    "colab": {
     "base_uri": "https://localhost:8080/",
     "height": 255
    },
    "id": "weagkiTB-rgZ",
    "outputId": "934ddfa8-9fd6-4947-d436-cee0d0837011"
   },
   "outputs": [
    {
     "name": "stdout",
     "output_type": "stream",
     "text": [
      "In those papers, What diseases are these molecules related with?\n",
      "coibanol  :  []\n",
      "bastimolide  :  ['malaria', 'cancer', 'disease']\n",
      "coibamide  :  ['malaria', 'cancer', 'disease']\n",
      "briarellin  :  ['cancer', 'disease']\n",
      "santacruzamate  :  ['cancer', 'disease']\n",
      "gallinamide_A  :  []\n",
      "coibacins  :  ['cancer', 'disease']\n",
      "bacilosarcin  :  ['cancer', 'disease']\n",
      "medusamide  :  ['cancer', 'disease']\n",
      "credneramides  :  ['cancer', 'disease']\n",
      "seco-briarellinone  :  ['cancer', 'disease']\n",
      "pseudopterane diterpene  :  ['malaria', 'cancer', 'disease']\n",
      "[d-MeAla11]-epimer  :  ['cancer']\n"
     ]
    }
   ],
   "source": [
    "import itertools\n",
    "diseases_by_molecule={}\n",
    "\n",
    "coibaI=[]\n",
    "coibaII=[]\n",
    "bastiI=[]\n",
    "bastiII=[]\n",
    "coibamiI=[]\n",
    "coibamiII=[]\n",
    "briarI=[]\n",
    "briarII=[]\n",
    "santaI=[]\n",
    "santaII=[]\n",
    "gallinaI=[]\n",
    "gallinaII=[]\n",
    "coibacI=[]\n",
    "coibacII=[]\n",
    "baciloI=[]\n",
    "baciloII=[]\n",
    "medusaI=[]\n",
    "medusaII=[]\n",
    "credneI=[]\n",
    "credneII=[]\n",
    "secoI=[]\n",
    "secoII=[]\n",
    "pseudoI=[]\n",
    "pseudoII=[]\n",
    "epimerI=[]\n",
    "epimerII=[]\n",
    "\n",
    "# chain.from_iterable(['ABC', 'DEF']) --> A B C D E F\n",
    "def from_iterable(iterables):\n",
    "  for it in iterables:\n",
    "    for element in it:\n",
    "      yield element\n",
    "\n",
    "#papers about Coibanol related with diseases\n",
    "coibaI.append(enfermedades[:2])\n",
    "for i,j in enumerate(coibaI[0]):\n",
    "  for k,l in enumerate(j[1:]):\n",
    "    coibaII.append(l)\n",
    "coibanol=from_iterable(coibaII)\n",
    "x1=list(set(coibanol))\n",
    "diseases_by_molecule['coibanol']=x1\n",
    "\n",
    "#papers about Bastimolide related with diseases\n",
    "bastiI.append(enfermedades[2:15])\n",
    "for i,j in enumerate(bastiI[0]):\n",
    "  for k,l in enumerate(j[1:]):\n",
    "    bastiII.append(l)\n",
    "bastimolide=list(from_iterable(bastiII))\n",
    "x2=list(set(bastimolide))\n",
    "diseases_by_molecule['bastimolide']=x2\n",
    "\n",
    "#papers about Coibamide related with diseases\n",
    "coibamiI.append(enfermedades[15:35])\n",
    "for i,j in enumerate(coibamiI[0]):\n",
    "  for k,l in enumerate(j[1:]):\n",
    "    coibamiII.append(l)\n",
    "coibamide=from_iterable(coibamiII)\n",
    "x3=list(set(coibamide))\n",
    "diseases_by_molecule['coibamide']=x3\n",
    "\n",
    "#papers about Briarellin related with diseases\n",
    "briarI.append(enfermedades[35:52])\n",
    "for i,j in enumerate(briarI[0]):\n",
    "  for k,l in enumerate(j[1:]):\n",
    "    briarII.append(l)\n",
    "briarellin=from_iterable(briarII)\n",
    "x4=list(set(briarellin))\n",
    "diseases_by_molecule['briarellin']=x4\n",
    "\n",
    "#papers about Santacruzamate related with diseases\n",
    "santaI.append(enfermedades[52:72])\n",
    "for i,j in enumerate(santaI[0]):\n",
    "  for k,l in enumerate(j[1:]):\n",
    "    santaII.append(l)\n",
    "santacruzamate=from_iterable(santaII)\n",
    "x5=list(set(santacruzamate))\n",
    "diseases_by_molecule['santacruzamate']=x5\n",
    "\n",
    "#papers about Gallinamide A related with diseases\n",
    "gallinaI.append(enfermedades[72:92])\n",
    "for i,j in enumerate(gallinaI[0]):\n",
    "  for k,l in enumerate(j[1:]):\n",
    "    santaII.append(l)\n",
    "gallinamide_A=from_iterable(gallinaII)\n",
    "x6=list(set(gallinamide_A))\n",
    "diseases_by_molecule['gallinamide_A']=x6\n",
    "\n",
    "#papers about Coibacins related with diseases\n",
    "coibacI.append(enfermedades[92:105])\n",
    "for i,j in enumerate(coibacI[0]):\n",
    "  for k,l in enumerate(j[1:]):\n",
    "    coibacII.append(l)\n",
    "coibacins=from_iterable(coibacII)\n",
    "x7=list(set(coibacins))\n",
    "diseases_by_molecule['coibacins']=x7\n",
    "\n",
    "#papers about Bacilosarcin related with diseases\n",
    "baciloI.append(enfermedades[105:115])\n",
    "for i,j in enumerate(baciloI[0]):\n",
    "  for k,l in enumerate(j[1:]):\n",
    "    baciloII.append(l)\n",
    "bacilosarcin=from_iterable(baciloII)\n",
    "x8=list(set(bacilosarcin))\n",
    "diseases_by_molecule['bacilosarcin']=x8\n",
    "\n",
    "#papers about Medusamide related with diseases\n",
    "medusaI.append(enfermedades[115:118])\n",
    "for i,j in enumerate(medusaI[0]):\n",
    "  for k,l in enumerate(j[1:]):\n",
    "    medusaII.append(l)\n",
    "medusamide=from_iterable(medusaII)\n",
    "x9=list(set(medusamide))\n",
    "diseases_by_molecule['medusamide']=x9\n",
    "\n",
    "#papers about Credneramides related with diseases\n",
    "credneI.append(enfermedades[118:125])\n",
    "for i,j in enumerate(credneI[0]):\n",
    "  for k,l in enumerate(j[1:]):\n",
    "    credneII.append(l)\n",
    "credneramides=from_iterable(credneII)\n",
    "x10=list(set(credneramides))\n",
    "diseases_by_molecule['credneramides']=x10\n",
    "\n",
    "#papers about Seco-Briarellinone related with diseases\n",
    "secoI.append(enfermedades[125:131])\n",
    "for i,j in enumerate(secoI[0]):\n",
    "  for k,l in enumerate(j[1:]):\n",
    "    secoII.append(l)\n",
    "seco_briarellinone=from_iterable(secoII)\n",
    "x11=list(set(seco_briarellinone))\n",
    "diseases_by_molecule['seco-briarellinone']=x11\n",
    "\n",
    "#papers about Pseudopterane Diterpene related with diseases\n",
    "pseudoI.append(enfermedades[131:150])\n",
    "for i,j in enumerate(pseudoI[0]):\n",
    "  for k,l in enumerate(j[1:]):\n",
    "    pseudoII.append(l)\n",
    "pseudopterane_diterpene=from_iterable(pseudoII)\n",
    "x12=list(set(pseudopterane_diterpene))\n",
    "diseases_by_molecule['pseudopterane diterpene']=x12\n",
    "\n",
    "#papers about [d-MeAla11]-Epimer related with diseases\n",
    "epimerI.append(enfermedades[150:])\n",
    "for i,j in enumerate(epimerI[0]):\n",
    "  for k,l in enumerate(j[1:]):\n",
    "    epimerII.append(l)\n",
    "epimer=from_iterable(epimerII)\n",
    "x13=list(set(epimer))\n",
    "diseases_by_molecule['[d-MeAla11]-epimer']=x13\n",
    "\n",
    "\n",
    "#To create a dictionary with molecule:related diseases\n",
    "print(\"In those papers, What diseases are these molecules related with?\")\n",
    "for k,v in diseases_by_molecule.items():\n",
    "  print(k,' : ', v)  "
   ]
  }
 ],
 "metadata": {
  "colab": {
   "collapsed_sections": [],
   "name": "BILIOMETRICS_PANAMA_10_28.ipynb",
   "provenance": []
  },
  "kernelspec": {
   "display_name": "Python 3",
   "language": "python",
   "name": "python3"
  },
  "language_info": {
   "codemirror_mode": {
    "name": "ipython",
    "version": 3
   },
   "file_extension": ".py",
   "mimetype": "text/x-python",
   "name": "python",
   "nbconvert_exporter": "python",
   "pygments_lexer": "ipython3",
   "version": "3.7.4"
  }
 },
 "nbformat": 4,
 "nbformat_minor": 1
}
